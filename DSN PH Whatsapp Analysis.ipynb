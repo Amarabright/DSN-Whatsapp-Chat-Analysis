{
 "cells": [
  {
   "cell_type": "markdown",
   "id": "fdd32ad5",
   "metadata": {},
   "source": [
    "# DSN PH WHATSAPP ANALYSIS\n",
    "\n",
    "This is a response to a project for the DSN PH whatsapp group.\n",
    "\n",
    "\n",
    "\n",
    "Notebook by Amarachi Ugagbe- 6th November, 2022"
   ]
  },
  {
   "cell_type": "markdown",
   "id": "0ed96d94",
   "metadata": {},
   "source": [
    "## Library Importation and Data Preparation"
   ]
  },
  {
   "cell_type": "code",
   "execution_count": 1,
   "id": "0d68aa3a",
   "metadata": {},
   "outputs": [],
   "source": [
    "# Importing necessary libraries for the analysis\n",
    "import regex    #regular expressions\n",
    "import pandas as pd    #for dataframe\n",
    "import numpy as np       #for numeric python\n",
    "import emoji     \n",
    "from collections import Counter\n",
    "import matplotlib.pyplot as plt"
   ]
  },
  {
   "cell_type": "code",
   "execution_count": 2,
   "id": "f37b55be",
   "metadata": {},
   "outputs": [],
   "source": [
    "# Preparing of data before importing the data as it has several processes\n",
    "def date_time(s):\n",
    "    pattern = '^([0-9]+)(\\/)([0-9]+)(\\/)([0-9]+), ([0-9]+):([0-9]+)[ ]?(AM|PM|am|pm)? -'\n",
    "    result = regex.match(pattern, s)\n",
    "    if result:\n",
    "        return True\n",
    "    return False\n",
    "\n",
    "def find_author(s):\n",
    "    s = s.split(\":\")\n",
    "    if len(s)==2:\n",
    "        return True\n",
    "    else:\n",
    "        return False\n",
    "\n",
    "def getDatapoint(line):\n",
    "    splitline = line.split(' - ')\n",
    "    dateTime = splitline[0]\n",
    "    date, time = dateTime.split(\", \")\n",
    "    message = \" \".join(splitline[1:])\n",
    "    if find_author(message):\n",
    "        splitmessage = message.split(\": \")\n",
    "        author = splitmessage[0]\n",
    "        message = \" \".join(splitmessage[1:])\n",
    "    else:\n",
    "        author= None\n",
    "    return date, time, author, message"
   ]
  },
  {
   "cell_type": "code",
   "execution_count": 3,
   "id": "7813d2d8",
   "metadata": {},
   "outputs": [],
   "source": [
    "#Importing the data so that it works in a pandas dataframe\n",
    "data = []\n",
    "conversation = 'RAWDATA.txt'\n",
    "with open(conversation, encoding=\"utf-8\") as fp:\n",
    "    fp.readline()\n",
    "    messageBuffer = []\n",
    "    date, time, author = None, None, None\n",
    "    while True:\n",
    "        line = fp.readline()\n",
    "        if not line:\n",
    "            break\n",
    "        line = line.strip()\n",
    "        if date_time(line):\n",
    "            if len(messageBuffer) > 0:\n",
    "                data.append([date, time, author, ' '.join(messageBuffer)])\n",
    "            messageBuffer.clear()\n",
    "            date, time, author, message = getDatapoint(line)\n",
    "            messageBuffer.append(message)\n",
    "        else:\n",
    "            messageBuffer.append(line)"
   ]
  },
  {
   "cell_type": "code",
   "execution_count": 4,
   "id": "d2a2ac14",
   "metadata": {},
   "outputs": [
    {
     "name": "stdout",
     "output_type": "stream",
     "text": [
      "        Date      Time          Author  \\\n",
      "0 2022-08-01  10:10 AM            None   \n",
      "1 2022-08-01  11:34 AM    $Gospel Orok   \n",
      "2 2022-08-01  12:38 PM    $Gospel Orok   \n",
      "3 2022-08-01  12:41 PM  Franklin Obasi   \n",
      "4 2022-08-01  12:45 PM    $Gospel Orok   \n",
      "\n",
      "                                             Message  \n",
      "0  $Gospel Orok: Good morning All and Happy New M...  \n",
      "1  Have any issues, for assistance on this DM @23...  \n",
      "2  📌📌🤔🙂🎯 *Remember the Goal*  *$30K* is the very ...  \n",
      "3  Are we to create branches or clone and work in...  \n",
      "4              Clone and work independently please..  \n",
      "           Date     Time             Author  \\\n",
      "1412 2022-10-31  6:56 PM            Raphael   \n",
      "1413 2022-10-31  6:59 PM            Evans 💫   \n",
      "1414 2022-10-31  7:42 PM       Esther Edoho   \n",
      "1415 2022-10-31  8:36 PM  +234 905 478 7856   \n",
      "1416 2022-10-31  8:36 PM       $Gospel Orok   \n",
      "\n",
      "                                                Message  \n",
      "1412                                                Yea  \n",
      "1413  Correct.  Let's rub minds on some stuff.  _I w...  \n",
      "1414  Urgent Recruitment  Role: *Data Analyst* (Juni...  \n",
      "1415                                             I'm in  \n",
      "1416                          Please carry me along 🤨🙏🏽  \n"
     ]
    }
   ],
   "source": [
    "#the dataset with the first 5 and last 5 data.\n",
    "data = pd.DataFrame(data, columns=[\"Date\", 'Time', 'Author', 'Message'])\n",
    "data['Date'] = pd.to_datetime(data['Date'])\n",
    "print(data.head())\n",
    "print(data.tail())"
   ]
  },
  {
   "cell_type": "code",
   "execution_count": 5,
   "id": "6f6dd4e4",
   "metadata": {},
   "outputs": [
    {
     "name": "stdout",
     "output_type": "stream",
     "text": [
      "<class 'pandas.core.frame.DataFrame'>\n",
      "RangeIndex: 1417 entries, 0 to 1416\n",
      "Data columns (total 4 columns):\n",
      " #   Column   Non-Null Count  Dtype         \n",
      "---  ------   --------------  -----         \n",
      " 0   Date     1417 non-null   datetime64[ns]\n",
      " 1   Time     1417 non-null   object        \n",
      " 2   Author   1308 non-null   object        \n",
      " 3   Message  1417 non-null   object        \n",
      "dtypes: datetime64[ns](1), object(3)\n",
      "memory usage: 44.4+ KB\n"
     ]
    }
   ],
   "source": [
    "data.info()"
   ]
  },
  {
   "cell_type": "code",
   "execution_count": 6,
   "id": "0cab48c9",
   "metadata": {},
   "outputs": [
    {
     "name": "stdout",
     "output_type": "stream",
     "text": [
      "[None '$Gospel Orok' 'Franklin Obasi' 'Ginika Chinonso Francis'\n",
      " 'Jamin DSN ' 'Christian Ajulor' 'Jacia_' 'adeseyison' 'Emmanuel Boniface'\n",
      " 'Florence Egwrudje' 'Tochi ErUdItE' 'Olivia Christopher' 'Oshimua Victor'\n",
      " 'STEVE' 'Lolade DSN' 'Esther Edoho' '+234 905 567 5426' 'Lukman Idris'\n",
      " '+234 703 017 6676' 'Raphael' 'Donvictor😍😍' '+234 705 789 9599'\n",
      " 'Olakunle Babatunde' 'Victor Ayo' 'Tosin Samuel Jay' 'Itoro Koffi'\n",
      " '+234 703 078 6167' 'Michael Franklin' 'Funminiyi' 'Anita DSN AI+'\n",
      " 'Evans 💫' '+234 806 385 5966' '+234 703 339 3928' 'Chinaza'\n",
      " '+234 703 606 2371' 'Hafeez' 'Chijioke' 'Destiny Fullstack'\n",
      " '+234 703 807 7300' 'Chinagorom' '+234 811 675 9346' '+234 816 456 1360'\n",
      " 'Danita' '+234 818 078 0709' '+234 806 545 7497' '+234 704 668 6066'\n",
      " '+234 706 746 2872' '+234 818 998 5195' 'Otto Godswill'\n",
      " '+234 909 274 2631' 'Muogbo chinemeerem' '+234 905 478 7856' 'Joy Nwaiwu'\n",
      " 'Emmanuel Uduna' 'Philip Obiora' '+234 703 222 4211' '+234 816 324 4345'\n",
      " '+234 703 542 8495' '+234 701 480 9659']\n"
     ]
    }
   ],
   "source": [
    "print(data.Author.unique())"
   ]
  },
  {
   "cell_type": "code",
   "execution_count": 7,
   "id": "8c31af34",
   "metadata": {},
   "outputs": [
    {
     "name": "stdout",
     "output_type": "stream",
     "text": [
      "(1417, 4)\n"
     ]
    }
   ],
   "source": [
    "print(data.shape)"
   ]
  },
  {
   "cell_type": "code",
   "execution_count": 8,
   "id": "d62fa2fa",
   "metadata": {},
   "outputs": [
    {
     "name": "stdout",
     "output_type": "stream",
     "text": [
      "1417\n"
     ]
    }
   ],
   "source": [
    "# viewing the total number of messages within the period.\n",
    "total_messages = data.shape[0]\n",
    "print(total_messages)"
   ]
  },
  {
   "cell_type": "code",
   "execution_count": 9,
   "id": "614b2a46",
   "metadata": {},
   "outputs": [
    {
     "name": "stdout",
     "output_type": "stream",
     "text": [
      "Total Messages:  1417\n",
      "Number of Emojis Shared <module 'emoji' from 'C:\\\\Users\\\\Amarachi Ugagbe\\\\anaconda3\\\\lib\\\\site-packages\\\\emoji\\\\__init__.py'>\n",
      "Number of Links Shared 69\n"
     ]
    }
   ],
   "source": [
    "#Extracting URL used in the chats\n",
    "URLPATTERN = r'(https?://\\S+)'\n",
    "data['urlcount'] = data.Message.apply(lambda x: regex.findall(URLPATTERN, x)).str.len()\n",
    "links = np.sum(data.urlcount)\n",
    "\n",
    "print(\"Total Messages: \", total_messages)\n",
    "print(\"Number of Emojis Shared\", emoji)\n",
    "print(\"Number of Links Shared\", links)\n"
   ]
  },
  {
   "cell_type": "code",
   "execution_count": 10,
   "id": "436bfd98",
   "metadata": {},
   "outputs": [],
   "source": [
    "data.to_excel('RAWTEXT.xlsx')"
   ]
  },
  {
   "cell_type": "code",
   "execution_count": null,
   "id": "02e7516f",
   "metadata": {},
   "outputs": [],
   "source": []
  }
 ],
 "metadata": {
  "kernelspec": {
   "display_name": "Python 3 (ipykernel)",
   "language": "python",
   "name": "python3"
  },
  "language_info": {
   "codemirror_mode": {
    "name": "ipython",
    "version": 3
   },
   "file_extension": ".py",
   "mimetype": "text/x-python",
   "name": "python",
   "nbconvert_exporter": "python",
   "pygments_lexer": "ipython3",
   "version": "3.9.12"
  }
 },
 "nbformat": 4,
 "nbformat_minor": 5
}
